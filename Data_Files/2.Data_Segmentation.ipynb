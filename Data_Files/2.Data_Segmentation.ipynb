{
 "cells": [
  {
   "cell_type": "markdown",
   "id": "cb0c05a1",
   "metadata": {},
   "source": [
    "<h2 align=\"center\" style=\"color:Green\">Data Segmentation</h2>"
   ]
  },
  {
   "cell_type": "markdown",
   "id": "75dc6448",
   "metadata": {},
   "source": [
    "### Tackling Age-Specific Errors in Premium Estimation with Data Segmentation and Model Customization\n",
    "\n",
    "#### Problem Statement:\n",
    "In the earlier analysis, we observed that the **premium estimation error** for insurance is significantly higher in the **18 to 25 age group**. To address this issue, we plan to segment the dataset based on age and build two distinct models:\n",
    "1. **Model 1:** For individuals aged **less than 25 years**.\n",
    "2. **Model 2:** For individuals aged **greater than or equal to 25 years**.\n",
    "\n",
    "Additionally, for individuals aged less than 25, we have an extra column, **genetical risk**, which could potentially improve the model's accuracy for this age group. Our hypothesis is that incorporating this additional feature for the younger age group may reduce the estimation error in the model.\n",
    "\n",
    "#### Approach:\n",
    "\n",
    "1. **Data Segmentation:**\n",
    "   We will segment the data into two subsets based on the age column:\n",
    "   - **Age < 25:** This subset will include all the rows where the individual's age is less than 25 years.\n",
    "   - **Age >= 25:** This subset will include all the rows where the individual's age is greater than or equal to 25 years.\n",
    "\n",
    "   This segmentation will allow us to build separate models for each group, addressing the specific patterns and errors observed in the premium estimation.\n",
    "\n",
    "2. **Feature Engineering for Age < 25:**\n",
    "   - The age group **less than 25** will have an additional feature, **genetical risk**, which is expected to provide more meaningful insights for premium estimation in this group. This feature will be included in the model specifically for individuals under 25.\n",
    "   - **Genetical risk** could provide more predictive power for estimating the insurance premium, especially if genetic factors are known to influence the risk profile of younger individuals.\n",
    "\n",
    "3. **Modeling Strategy:**\n",
    "   - **For Age < 25:** A regression model (e.g., **XGBoost**, **Random Forest**, or **Linear Regression**) will be trained using all relevant features, including the **genetical risk** feature, to predict the premium for individuals in this age group. By incorporating the genetic risk feature, we aim to reduce the premium estimation error observed in this segment.\n",
    "   - **For Age >= 25:** A separate regression model will be trained on the remaining data (age >= 25). This model will use the standard features available and will not include the **genetical risk** column, as it is not available for individuals aged 25 or older.\n",
    "\n",
    "4. **Model Evaluation:**\n",
    "   After training both models, we will evaluate their performance separately. The performance metrics will include:\n",
    "   - **Mean Squared Error (MSE):** To quantify the prediction accuracy.\n",
    "   - **R² Score:** To assess the model's fit and its ability to explain the variance in the target variable (annual premium amount).\n",
    "   - **Cross-validation:** To ensure the models' generalizability and to avoid overfitting.\n",
    "\n",
    "   We will compare the errors of the two models and verify whether the inclusion of the **genetical risk** feature improves the performance for individuals aged less than 25.\n",
    "\n",
    "5. **Expected Outcome:**\n",
    "   By building and evaluating separate models for these two age groups, we expect to achieve the following:\n",
    "   - **Improved accuracy for the under-25 age group** by utilizing the additional **genetical risk** feature.\n",
    "   - **Better model performance overall** by addressing the specific error patterns observed in each age group.\n",
    "   - **Reduction in the premium estimation error** for the 18-25 age group, especially by leveraging the more personalized feature (genetical risk) for younger individuals.\n",
    "\n",
    "#### Conclusion:\n",
    "By splitting the dataset into two age-based segments and utilizing different models for each, we can address the specific challenges in premium estimation. The use of an extra feature like **genetical risk** for individuals below 25 is expected to improve model performance and reduce errors in this segment. This approach exemplifies how segmentation and tailored feature engineering can enhance the accuracy of machine learning models, especially in domains like insurance pricing."
   ]
  },
  {
   "cell_type": "code",
   "execution_count": 3,
   "id": "35b7f880",
   "metadata": {
    "scrolled": true
   },
   "outputs": [
    {
     "data": {
      "text/html": [
       "<div>\n",
       "<style scoped>\n",
       "    .dataframe tbody tr th:only-of-type {\n",
       "        vertical-align: middle;\n",
       "    }\n",
       "\n",
       "    .dataframe tbody tr th {\n",
       "        vertical-align: top;\n",
       "    }\n",
       "\n",
       "    .dataframe thead th {\n",
       "        text-align: right;\n",
       "    }\n",
       "</style>\n",
       "<table border=\"1\" class=\"dataframe\">\n",
       "  <thead>\n",
       "    <tr style=\"text-align: right;\">\n",
       "      <th></th>\n",
       "      <th>Age</th>\n",
       "      <th>Gender</th>\n",
       "      <th>Region</th>\n",
       "      <th>Marital_status</th>\n",
       "      <th>Number Of Dependants</th>\n",
       "      <th>BMI_Category</th>\n",
       "      <th>Smoking_Status</th>\n",
       "      <th>Employment_Status</th>\n",
       "      <th>Income_Level</th>\n",
       "      <th>Income_Lakhs</th>\n",
       "      <th>Medical History</th>\n",
       "      <th>Insurance_Plan</th>\n",
       "      <th>Annual_Premium_Amount</th>\n",
       "    </tr>\n",
       "  </thead>\n",
       "  <tbody>\n",
       "    <tr>\n",
       "      <th>0</th>\n",
       "      <td>26</td>\n",
       "      <td>Male</td>\n",
       "      <td>Northwest</td>\n",
       "      <td>Unmarried</td>\n",
       "      <td>0</td>\n",
       "      <td>Normal</td>\n",
       "      <td>No Smoking</td>\n",
       "      <td>Salaried</td>\n",
       "      <td>&lt;10L</td>\n",
       "      <td>6</td>\n",
       "      <td>Diabetes</td>\n",
       "      <td>Bronze</td>\n",
       "      <td>9053</td>\n",
       "    </tr>\n",
       "    <tr>\n",
       "      <th>1</th>\n",
       "      <td>29</td>\n",
       "      <td>Female</td>\n",
       "      <td>Southeast</td>\n",
       "      <td>Married</td>\n",
       "      <td>2</td>\n",
       "      <td>Obesity</td>\n",
       "      <td>Regular</td>\n",
       "      <td>Salaried</td>\n",
       "      <td>&lt;10L</td>\n",
       "      <td>6</td>\n",
       "      <td>Diabetes</td>\n",
       "      <td>Bronze</td>\n",
       "      <td>16339</td>\n",
       "    </tr>\n",
       "    <tr>\n",
       "      <th>2</th>\n",
       "      <td>49</td>\n",
       "      <td>Female</td>\n",
       "      <td>Northeast</td>\n",
       "      <td>Married</td>\n",
       "      <td>2</td>\n",
       "      <td>Normal</td>\n",
       "      <td>No Smoking</td>\n",
       "      <td>Self-Employed</td>\n",
       "      <td>10L - 25L</td>\n",
       "      <td>20</td>\n",
       "      <td>High blood pressure</td>\n",
       "      <td>Silver</td>\n",
       "      <td>18164</td>\n",
       "    </tr>\n",
       "    <tr>\n",
       "      <th>3</th>\n",
       "      <td>30</td>\n",
       "      <td>Female</td>\n",
       "      <td>Southeast</td>\n",
       "      <td>Married</td>\n",
       "      <td>3</td>\n",
       "      <td>Normal</td>\n",
       "      <td>No Smoking</td>\n",
       "      <td>Salaried</td>\n",
       "      <td>&gt; 40L</td>\n",
       "      <td>77</td>\n",
       "      <td>No Disease</td>\n",
       "      <td>Gold</td>\n",
       "      <td>20303</td>\n",
       "    </tr>\n",
       "    <tr>\n",
       "      <th>4</th>\n",
       "      <td>18</td>\n",
       "      <td>Male</td>\n",
       "      <td>Northeast</td>\n",
       "      <td>Unmarried</td>\n",
       "      <td>0</td>\n",
       "      <td>Overweight</td>\n",
       "      <td>Regular</td>\n",
       "      <td>Self-Employed</td>\n",
       "      <td>&gt; 40L</td>\n",
       "      <td>99</td>\n",
       "      <td>High blood pressure</td>\n",
       "      <td>Silver</td>\n",
       "      <td>13365</td>\n",
       "    </tr>\n",
       "  </tbody>\n",
       "</table>\n",
       "</div>"
      ],
      "text/plain": [
       "   Age  Gender     Region Marital_status  Number Of Dependants BMI_Category  \\\n",
       "0   26    Male  Northwest      Unmarried                     0       Normal   \n",
       "1   29  Female  Southeast        Married                     2      Obesity   \n",
       "2   49  Female  Northeast        Married                     2       Normal   \n",
       "3   30  Female  Southeast        Married                     3       Normal   \n",
       "4   18    Male  Northeast      Unmarried                     0   Overweight   \n",
       "\n",
       "  Smoking_Status Employment_Status Income_Level  Income_Lakhs  \\\n",
       "0     No Smoking          Salaried         <10L             6   \n",
       "1        Regular          Salaried         <10L             6   \n",
       "2     No Smoking     Self-Employed    10L - 25L            20   \n",
       "3     No Smoking          Salaried        > 40L            77   \n",
       "4        Regular     Self-Employed        > 40L            99   \n",
       "\n",
       "       Medical History Insurance_Plan  Annual_Premium_Amount  \n",
       "0             Diabetes         Bronze                   9053  \n",
       "1             Diabetes         Bronze                  16339  \n",
       "2  High blood pressure         Silver                  18164  \n",
       "3           No Disease           Gold                  20303  \n",
       "4  High blood pressure         Silver                  13365  "
      ]
     },
     "execution_count": 3,
     "metadata": {},
     "output_type": "execute_result"
    }
   ],
   "source": [
    "import pandas as pd\n",
    "df = pd.read_excel(\"premiums.xlsx\")\n",
    "df.head()"
   ]
  },
  {
   "cell_type": "code",
   "execution_count": 4,
   "id": "2b820232",
   "metadata": {},
   "outputs": [
    {
     "data": {
      "text/plain": [
       "(50000, 13)"
      ]
     },
     "execution_count": 4,
     "metadata": {},
     "output_type": "execute_result"
    }
   ],
   "source": [
    "df.shape"
   ]
  },
  {
   "cell_type": "code",
   "execution_count": 5,
   "id": "206a3cdb",
   "metadata": {
    "scrolled": false
   },
   "outputs": [
    {
     "data": {
      "text/plain": [
       "count    50000.000000\n",
       "mean        34.593480\n",
       "std         15.000437\n",
       "min         18.000000\n",
       "25%         22.000000\n",
       "50%         31.000000\n",
       "75%         45.000000\n",
       "max        356.000000\n",
       "Name: Age, dtype: float64"
      ]
     },
     "execution_count": 5,
     "metadata": {},
     "output_type": "execute_result"
    }
   ],
   "source": [
    "df.Age.describe()"
   ]
  },
  {
   "cell_type": "code",
   "execution_count": 6,
   "id": "8b905a77",
   "metadata": {},
   "outputs": [],
   "source": [
    "df_young = df[df.Age<=25]\n",
    "df_rest = df[df.Age>25]"
   ]
  },
  {
   "cell_type": "code",
   "execution_count": 7,
   "id": "f1d671ec",
   "metadata": {},
   "outputs": [
    {
     "data": {
      "text/plain": [
       "((20096, 13), (29904, 13))"
      ]
     },
     "execution_count": 7,
     "metadata": {},
     "output_type": "execute_result"
    }
   ],
   "source": [
    "df_young.shape, df_rest.shape"
   ]
  },
  {
   "cell_type": "code",
   "execution_count": 8,
   "id": "f566ae1c",
   "metadata": {},
   "outputs": [],
   "source": [
    "df_young.to_excel(\"premiums_young.xlsx\", index=False)\n",
    "df_rest.to_excel(\"premiums_rest.xlsx\", index=False)"
   ]
  },
  {
   "cell_type": "code",
   "execution_count": 10,
   "id": "469c45f4",
   "metadata": {},
   "outputs": [
    {
     "data": {
      "text/html": [
       "<div>\n",
       "<style scoped>\n",
       "    .dataframe tbody tr th:only-of-type {\n",
       "        vertical-align: middle;\n",
       "    }\n",
       "\n",
       "    .dataframe tbody tr th {\n",
       "        vertical-align: top;\n",
       "    }\n",
       "\n",
       "    .dataframe thead th {\n",
       "        text-align: right;\n",
       "    }\n",
       "</style>\n",
       "<table border=\"1\" class=\"dataframe\">\n",
       "  <thead>\n",
       "    <tr style=\"text-align: right;\">\n",
       "      <th></th>\n",
       "      <th>Age</th>\n",
       "      <th>Gender</th>\n",
       "      <th>Region</th>\n",
       "      <th>Marital_status</th>\n",
       "      <th>Number Of Dependants</th>\n",
       "      <th>BMI_Category</th>\n",
       "      <th>Smoking_Status</th>\n",
       "      <th>Employment_Status</th>\n",
       "      <th>Income_Level</th>\n",
       "      <th>Income_Lakhs</th>\n",
       "      <th>Medical History</th>\n",
       "      <th>Insurance_Plan</th>\n",
       "      <th>Annual_Premium_Amount</th>\n",
       "      <th>Genetical_Risk</th>\n",
       "    </tr>\n",
       "  </thead>\n",
       "  <tbody>\n",
       "    <tr>\n",
       "      <th>0</th>\n",
       "      <td>18</td>\n",
       "      <td>Male</td>\n",
       "      <td>Northeast</td>\n",
       "      <td>Unmarried</td>\n",
       "      <td>0</td>\n",
       "      <td>Overweight</td>\n",
       "      <td>Regular</td>\n",
       "      <td>Self-Employed</td>\n",
       "      <td>&gt; 40L</td>\n",
       "      <td>99</td>\n",
       "      <td>High blood pressure</td>\n",
       "      <td>Silver</td>\n",
       "      <td>13365</td>\n",
       "      <td>4</td>\n",
       "    </tr>\n",
       "    <tr>\n",
       "      <th>1</th>\n",
       "      <td>22</td>\n",
       "      <td>Female</td>\n",
       "      <td>Northwest</td>\n",
       "      <td>Unmarried</td>\n",
       "      <td>0</td>\n",
       "      <td>Underweight</td>\n",
       "      <td>No Smoking</td>\n",
       "      <td>Freelancer</td>\n",
       "      <td>&lt;10L</td>\n",
       "      <td>3</td>\n",
       "      <td>No Disease</td>\n",
       "      <td>Silver</td>\n",
       "      <td>11050</td>\n",
       "      <td>3</td>\n",
       "    </tr>\n",
       "  </tbody>\n",
       "</table>\n",
       "</div>"
      ],
      "text/plain": [
       "   Age  Gender     Region Marital_status  Number Of Dependants BMI_Category  \\\n",
       "0   18    Male  Northeast      Unmarried                     0   Overweight   \n",
       "1   22  Female  Northwest      Unmarried                     0  Underweight   \n",
       "\n",
       "  Smoking_Status Employment_Status Income_Level  Income_Lakhs  \\\n",
       "0        Regular     Self-Employed        > 40L            99   \n",
       "1     No Smoking        Freelancer         <10L             3   \n",
       "\n",
       "       Medical History Insurance_Plan  Annual_Premium_Amount  Genetical_Risk  \n",
       "0  High blood pressure         Silver                  13365               4  \n",
       "1           No Disease         Silver                  11050               3  "
      ]
     },
     "execution_count": 10,
     "metadata": {},
     "output_type": "execute_result"
    }
   ],
   "source": [
    "import pandas as pd\n",
    "df = pd.read_excel(\"premiums_young_with_gr.xlsx\")\n",
    "df.head(2)"
   ]
  }
 ],
 "metadata": {
  "kernelspec": {
   "display_name": "Python 3",
   "language": "python",
   "name": "python3"
  },
  "language_info": {
   "codemirror_mode": {
    "name": "ipython",
    "version": 3
   },
   "file_extension": ".py",
   "mimetype": "text/x-python",
   "name": "python",
   "nbconvert_exporter": "python",
   "pygments_lexer": "ipython3",
   "version": "3.11.4"
  }
 },
 "nbformat": 4,
 "nbformat_minor": 5
}
